{
 "cells": [
  {
   "cell_type": "markdown",
   "id": "0fc183db",
   "metadata": {},
   "source": [
    "# OpenMATB Task Performance Analysis\n",
    "\n",
    "This notebook extracts performance data for each task type (e.g., sysmon, resman, communication) from OpenMATB log files. For each task, it creates a table with users as rows and each performance field as a column.\n",
    "\n",
    "## Outline\n",
    "1. Import Required Libraries\n",
    "2. Locate and Load Performance Files\n",
    "3. Extract and Clean Performance Data\n",
    "4. Create Separate Tables for Each Task Type\n",
    "5. Display and Export Results"
   ]
  },
  {
   "cell_type": "code",
   "execution_count": null,
   "id": "4972dccc",
   "metadata": {},
   "outputs": [],
   "source": [
    "# 1. Import Required Libraries\n",
    "import pandas as pd\n",
    "import numpy as np\n",
    "import glob\n",
    "import os"
   ]
  },
  {
   "cell_type": "code",
   "execution_count": null,
   "id": "84cf3535",
   "metadata": {},
   "outputs": [],
   "source": [
    "# 2. Locate and Load Performance Files\n",
    "csv_files = glob.glob(os.path.join('sessions', '*', '*.csv'))\n",
    "print(f'Found {len(csv_files)} session files.')\n",
    "\n",
    "# Load all files into a single DataFrame\n",
    "all_dfs = []\n",
    "for file in csv_files:\n",
    "    df = pd.read_csv(file)\n",
    "    df['session_file'] = file\n",
    "    all_dfs.append(df)\n",
    "raw_df = pd.concat(all_dfs, ignore_index=True)\n",
    "print(f'Total rows loaded: {len(raw_df)}')\n",
    "raw_df.head()"
   ]
  },
  {
   "cell_type": "code",
   "execution_count": null,
   "id": "c90fd895",
   "metadata": {},
   "outputs": [],
   "source": [
    "# 3. Extract and Clean Performance Data\n",
    "# Only keep performance rows\n",
    "perf_df = raw_df[raw_df['type'] == 'performance'].copy()\n",
    "\n",
    "# Extract user from filename\n",
    "perf_df['user'] = perf_df['session_file'].apply(lambda x: os.path.basename(x).split('_')[1] if '_' in os.path.basename(x) else 'unknown')\n",
    "\n",
    "# Preview\n",
    "perf_df.head()"
   ]
  },
  {
   "cell_type": "code",
   "execution_count": null,
   "id": "ff315217",
   "metadata": {},
   "outputs": [],
   "source": [
    "# 4. Create Separate Tables for Each Task Type\n",
    "# For each module (task), pivot so each performance field is a column\n",
    "\n",
    "task_tables = {}\n",
    "for module in perf_df['module'].unique():\n",
    "    module_df = perf_df[perf_df['module'] == module]\n",
    "    pivot = module_df.pivot_table(index='user', columns='address', values='value', aggfunc='first')\n",
    "    task_tables[module] = pivot\n",
    "    print(f'Performance table for task: {module}')\n",
    "    display(pivot)"
   ]
  },
  {
   "cell_type": "code",
   "execution_count": null,
   "id": "f3213d69",
   "metadata": {},
   "outputs": [],
   "source": [
    "# 5. Display and Export Results\n",
    "# Optionally, export each table to CSV for further analysis\n",
    "for module, table in task_tables.items():\n",
    "    out_path = f'{module}_performance_table.csv'\n",
    "    table.to_csv(out_path)\n",
    "    print(f'Exported {module} table to {out_path}')"
   ]
  }
 ],
 "metadata": {
  "language_info": {
   "name": "python"
  }
 },
 "nbformat": 4,
 "nbformat_minor": 5
}
