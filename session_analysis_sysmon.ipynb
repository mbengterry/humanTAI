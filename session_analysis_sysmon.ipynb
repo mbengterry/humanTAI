{
 "cells": [
  {
   "cell_type": "markdown",
   "id": "1b510a18",
   "metadata": {},
   "source": [
    "# Sysmon Performance Analysis\n",
    "\n",
    "This notebook analyzes user performance in the Sysmon task from the latest OpenMATB session log file. It focuses on failure detection, response times, and evaluation of user responses to error recommendations, especially misleading ones for F6.\n",
    "\n",
    "## Outline\n",
    "1. Import Required Libraries\n",
    "2. Locate Latest Performance File\n",
    "3. Load Performance Data\n",
    "4. Extract Failure Events\n",
    "5. Analyze Detection Performance\n",
    "6. Evaluate Error Recommendation Detection\n",
    "7. Visualize Results"
   ]
  },
  {
   "cell_type": "code",
   "execution_count": 1,
   "id": "89617ded",
   "metadata": {},
   "outputs": [
    {
     "name": "stdout",
     "output_type": "stream",
     "text": [
      "Requirement already satisfied: pandas in /Users/mbengamina/anaconda3/envs/py39/lib/python3.9/site-packages (2.2.3)\n",
      "Requirement already satisfied: matplotlib in /Users/mbengamina/anaconda3/envs/py39/lib/python3.9/site-packages (3.9.4)\n",
      "Requirement already satisfied: seaborn in /Users/mbengamina/anaconda3/envs/py39/lib/python3.9/site-packages (0.13.2)\n",
      "Requirement already satisfied: numpy in /Users/mbengamina/anaconda3/envs/py39/lib/python3.9/site-packages (2.0.1)\n",
      "Requirement already satisfied: python-dateutil>=2.8.2 in /Users/mbengamina/anaconda3/envs/py39/lib/python3.9/site-packages (from pandas) (2.9.0.post0)\n",
      "Requirement already satisfied: pytz>=2020.1 in /Users/mbengamina/anaconda3/envs/py39/lib/python3.9/site-packages (from pandas) (2025.2)\n",
      "Requirement already satisfied: tzdata>=2022.7 in /Users/mbengamina/anaconda3/envs/py39/lib/python3.9/site-packages (from pandas) (2025.2)\n",
      "Requirement already satisfied: contourpy>=1.0.1 in /Users/mbengamina/anaconda3/envs/py39/lib/python3.9/site-packages (from matplotlib) (1.3.0)\n",
      "Requirement already satisfied: cycler>=0.10 in /Users/mbengamina/anaconda3/envs/py39/lib/python3.9/site-packages (from matplotlib) (0.12.1)\n",
      "Requirement already satisfied: fonttools>=4.22.0 in /Users/mbengamina/anaconda3/envs/py39/lib/python3.9/site-packages (from matplotlib) (4.59.0)\n",
      "Requirement already satisfied: kiwisolver>=1.3.1 in /Users/mbengamina/anaconda3/envs/py39/lib/python3.9/site-packages (from matplotlib) (1.4.7)\n",
      "Requirement already satisfied: packaging>=20.0 in /Users/mbengamina/anaconda3/envs/py39/lib/python3.9/site-packages (from matplotlib) (25.0)\n",
      "Requirement already satisfied: pillow>=8 in /Users/mbengamina/anaconda3/envs/py39/lib/python3.9/site-packages (from matplotlib) (11.3.0)\n",
      "Requirement already satisfied: pyparsing>=2.3.1 in /Users/mbengamina/anaconda3/envs/py39/lib/python3.9/site-packages (from matplotlib) (3.2.3)\n",
      "Requirement already satisfied: importlib-resources>=3.2.0 in /Users/mbengamina/anaconda3/envs/py39/lib/python3.9/site-packages (from matplotlib) (6.5.2)\n",
      "Requirement already satisfied: zipp>=3.1.0 in /Users/mbengamina/anaconda3/envs/py39/lib/python3.9/site-packages (from importlib-resources>=3.2.0->matplotlib) (3.23.0)\n",
      "Requirement already satisfied: six>=1.5 in /Users/mbengamina/anaconda3/envs/py39/lib/python3.9/site-packages (from python-dateutil>=2.8.2->pandas) (1.17.0)\n",
      "Requirement already satisfied: pytz>=2020.1 in /Users/mbengamina/anaconda3/envs/py39/lib/python3.9/site-packages (from pandas) (2025.2)\n",
      "Requirement already satisfied: tzdata>=2022.7 in /Users/mbengamina/anaconda3/envs/py39/lib/python3.9/site-packages (from pandas) (2025.2)\n",
      "Requirement already satisfied: contourpy>=1.0.1 in /Users/mbengamina/anaconda3/envs/py39/lib/python3.9/site-packages (from matplotlib) (1.3.0)\n",
      "Requirement already satisfied: cycler>=0.10 in /Users/mbengamina/anaconda3/envs/py39/lib/python3.9/site-packages (from matplotlib) (0.12.1)\n",
      "Requirement already satisfied: fonttools>=4.22.0 in /Users/mbengamina/anaconda3/envs/py39/lib/python3.9/site-packages (from matplotlib) (4.59.0)\n",
      "Requirement already satisfied: kiwisolver>=1.3.1 in /Users/mbengamina/anaconda3/envs/py39/lib/python3.9/site-packages (from matplotlib) (1.4.7)\n",
      "Requirement already satisfied: packaging>=20.0 in /Users/mbengamina/anaconda3/envs/py39/lib/python3.9/site-packages (from matplotlib) (25.0)\n",
      "Requirement already satisfied: pillow>=8 in /Users/mbengamina/anaconda3/envs/py39/lib/python3.9/site-packages (from matplotlib) (11.3.0)\n",
      "Requirement already satisfied: pyparsing>=2.3.1 in /Users/mbengamina/anaconda3/envs/py39/lib/python3.9/site-packages (from matplotlib) (3.2.3)\n",
      "Requirement already satisfied: importlib-resources>=3.2.0 in /Users/mbengamina/anaconda3/envs/py39/lib/python3.9/site-packages (from matplotlib) (6.5.2)\n",
      "Requirement already satisfied: zipp>=3.1.0 in /Users/mbengamina/anaconda3/envs/py39/lib/python3.9/site-packages (from importlib-resources>=3.2.0->matplotlib) (3.23.0)\n",
      "Requirement already satisfied: six>=1.5 in /Users/mbengamina/anaconda3/envs/py39/lib/python3.9/site-packages (from python-dateutil>=2.8.2->pandas) (1.17.0)\n"
     ]
    }
   ],
   "source": [
    "!pip install pandas matplotlib seaborn numpy"
   ]
  },
  {
   "cell_type": "code",
   "execution_count": 2,
   "id": "3a0cb545",
   "metadata": {},
   "outputs": [],
   "source": [
    "# 1. Import Required Libraries\n",
    "import os\n",
    "import glob\n",
    "import pandas as pd\n",
    "import matplotlib.pyplot as plt\n",
    "import seaborn as sns\n",
    "from datetime import datetime"
   ]
  },
  {
   "cell_type": "code",
   "execution_count": 3,
   "id": "d5c18642",
   "metadata": {},
   "outputs": [
    {
     "name": "stdout",
     "output_type": "stream",
     "text": [
      "Latest performance file: sessions/2025-07-22/22_truth_vv_250722_201429.csv\n"
     ]
    }
   ],
   "source": [
    "# 2. Locate Latest Performance File\n",
    "sessions_dir = 'sessions'\n",
    "latest_file = None\n",
    "latest_mtime = 0\n",
    "for root, dirs, files in os.walk(sessions_dir):\n",
    "    for file in files:\n",
    "        if file.endswith('.csv'):\n",
    "            path = os.path.join(root, file)\n",
    "            mtime = os.path.getmtime(path)\n",
    "            if mtime > latest_mtime:\n",
    "                latest_mtime = mtime\n",
    "                latest_file = path\n",
    "print(f\"Latest performance file: {latest_file}\")"
   ]
  },
  {
   "cell_type": "code",
   "execution_count": 4,
   "id": "fd1dee2a",
   "metadata": {},
   "outputs": [
    {
     "name": "stdout",
     "output_type": "stream",
     "text": [
      "Loaded 144075 rows from sessions/2025-07-22/22_truth_vv_250722_201429.csv\n"
     ]
    },
    {
     "name": "stderr",
     "output_type": "stream",
     "text": [
      "/var/folders/ds/cyyl9tw54j12pq79761n2rt00000gn/T/ipykernel_26315/2946330520.py:3: DtypeWarning: Columns (0,1) have mixed types. Specify dtype option on import or set low_memory=False.\n",
      "  df = pd.read_csv(latest_file, header=None)\n"
     ]
    }
   ],
   "source": [
    "# 3. Load Performance Data\n",
    "if latest_file:\n",
    "    df = pd.read_csv(latest_file, header=None)\n",
    "    print(f\"Loaded {len(df)} rows from {latest_file}\")\n",
    "else:\n",
    "    print(\"No performance file found.\")"
   ]
  },
  {
   "cell_type": "code",
   "execution_count": 5,
   "id": "1f8a5ebe",
   "metadata": {},
   "outputs": [
    {
     "name": "stdout",
     "output_type": "stream",
     "text": [
      "Sysmon failure events: 0\n"
     ]
    },
    {
     "data": {
      "text/html": [
       "<div>\n",
       "<style scoped>\n",
       "    .dataframe tbody tr th:only-of-type {\n",
       "        vertical-align: middle;\n",
       "    }\n",
       "\n",
       "    .dataframe tbody tr th {\n",
       "        vertical-align: top;\n",
       "    }\n",
       "\n",
       "    .dataframe thead th {\n",
       "        text-align: right;\n",
       "    }\n",
       "</style>\n",
       "<table border=\"1\" class=\"dataframe\">\n",
       "  <thead>\n",
       "    <tr style=\"text-align: right;\">\n",
       "      <th></th>\n",
       "      <th>timestamp</th>\n",
       "      <th>scenario_time</th>\n",
       "      <th>event_type</th>\n",
       "      <th>plugin</th>\n",
       "      <th>param1</th>\n",
       "      <th>param2</th>\n",
       "    </tr>\n",
       "  </thead>\n",
       "  <tbody>\n",
       "  </tbody>\n",
       "</table>\n",
       "</div>"
      ],
      "text/plain": [
       "Empty DataFrame\n",
       "Columns: [timestamp, scenario_time, event_type, plugin, param1, param2]\n",
       "Index: []"
      ]
     },
     "metadata": {},
     "output_type": "display_data"
    }
   ],
   "source": [
    "# 4. Extract Failure Events\n",
    "# Assume columns: [timestamp, scenario_time, event_type, plugin, param1, param2]\n",
    "if latest_file:\n",
    "    df.columns = ['timestamp', 'scenario_time', 'event_type', 'plugin', 'param1', 'param2']\n",
    "    sysmon_failures = df[(df['plugin'] == 'sysmon') & (df['event_type'] == 'performance') & (df['param1'].str.contains('name')) & (df['param2'].str.contains('abnormal|FAIL|fail|FAILURE', case=False, na=False))]\n",
    "    print(f\"Sysmon failure events: {len(sysmon_failures)}\")\n",
    "    display(sysmon_failures.head())"
   ]
  },
  {
   "cell_type": "code",
   "execution_count": 6,
   "id": "cb3eba71",
   "metadata": {},
   "outputs": [],
   "source": [
    "# 5. Analyze Detection Performance\n",
    "# Example: Extract signal detection and response time logs\n",
    "perf_events = df[(df['plugin'] == 'sysmon') & (df['event_type'] == 'performance')]\n",
    "if not perf_events.empty:\n",
    "    perf_events.columns = ['timestamp', 'scenario_time', 'event_type', 'plugin', 'metric', 'value']\n",
    "    # Pivot to get signal detection and response time per gauge\n",
    "    perf_pivot = perf_events.pivot_table(index=['timestamp', 'scenario_time'], columns='metric', values='value', aggfunc='first').reset_index()\n",
    "    print(perf_pivot.head())\n",
    "    # Compute hit/miss rates\n",
    "    hit_rate = (perf_pivot['signal_detection'] == 'HIT').mean()\n",
    "    miss_rate = (perf_pivot['signal_detection'] == 'MISS').mean()\n",
    "    avg_rt = pd.to_numeric(perf_pivot['response_time'], errors='coerce').mean()\n",
    "    print(f\"Hit rate: {hit_rate:.2f}, Miss rate: {miss_rate:.2f}, Avg response time: {avg_rt:.2f} ms\")"
   ]
  },
  {
   "cell_type": "code",
   "execution_count": 7,
   "id": "c2d5b421",
   "metadata": {},
   "outputs": [
    {
     "ename": "KeyError",
     "evalue": "'metric'",
     "output_type": "error",
     "traceback": [
      "\u001b[0;31m---------------------------------------------------------------------------\u001b[0m",
      "\u001b[0;31mKeyError\u001b[0m                                  Traceback (most recent call last)",
      "File \u001b[0;32m~/anaconda3/envs/py39/lib/python3.9/site-packages/pandas/core/indexes/base.py:3805\u001b[0m, in \u001b[0;36mIndex.get_loc\u001b[0;34m(self, key)\u001b[0m\n\u001b[1;32m   3804\u001b[0m \u001b[38;5;28;01mtry\u001b[39;00m:\n\u001b[0;32m-> 3805\u001b[0m     \u001b[38;5;28;01mreturn\u001b[39;00m \u001b[38;5;28;43mself\u001b[39;49m\u001b[38;5;241;43m.\u001b[39;49m\u001b[43m_engine\u001b[49m\u001b[38;5;241;43m.\u001b[39;49m\u001b[43mget_loc\u001b[49m\u001b[43m(\u001b[49m\u001b[43mcasted_key\u001b[49m\u001b[43m)\u001b[49m\n\u001b[1;32m   3806\u001b[0m \u001b[38;5;28;01mexcept\u001b[39;00m \u001b[38;5;167;01mKeyError\u001b[39;00m \u001b[38;5;28;01mas\u001b[39;00m err:\n",
      "File \u001b[0;32mindex.pyx:167\u001b[0m, in \u001b[0;36mpandas._libs.index.IndexEngine.get_loc\u001b[0;34m()\u001b[0m\n",
      "File \u001b[0;32mindex.pyx:196\u001b[0m, in \u001b[0;36mpandas._libs.index.IndexEngine.get_loc\u001b[0;34m()\u001b[0m\n",
      "File \u001b[0;32mpandas/_libs/hashtable_class_helper.pxi:7081\u001b[0m, in \u001b[0;36mpandas._libs.hashtable.PyObjectHashTable.get_item\u001b[0;34m()\u001b[0m\n",
      "File \u001b[0;32mpandas/_libs/hashtable_class_helper.pxi:7089\u001b[0m, in \u001b[0;36mpandas._libs.hashtable.PyObjectHashTable.get_item\u001b[0;34m()\u001b[0m\n",
      "\u001b[0;31mKeyError\u001b[0m: 'metric'",
      "\nThe above exception was the direct cause of the following exception:\n",
      "\u001b[0;31mKeyError\u001b[0m                                  Traceback (most recent call last)",
      "Cell \u001b[0;32mIn[7], line 3\u001b[0m\n\u001b[1;32m      1\u001b[0m \u001b[38;5;66;03m# 6. Evaluate Error Recommendation Detection\u001b[39;00m\n\u001b[1;32m      2\u001b[0m \u001b[38;5;66;03m# Find F6 failures and check if a misleading recommendation was given and user response\u001b[39;00m\n\u001b[0;32m----> 3\u001b[0m f6_failures \u001b[38;5;241m=\u001b[39m perf_events[(\u001b[43mperf_events\u001b[49m\u001b[43m[\u001b[49m\u001b[38;5;124;43m'\u001b[39;49m\u001b[38;5;124;43mmetric\u001b[39;49m\u001b[38;5;124;43m'\u001b[39;49m\u001b[43m]\u001b[49m \u001b[38;5;241m==\u001b[39m \u001b[38;5;124m'\u001b[39m\u001b[38;5;124mname\u001b[39m\u001b[38;5;124m'\u001b[39m) \u001b[38;5;241m&\u001b[39m (perf_events[\u001b[38;5;124m'\u001b[39m\u001b[38;5;124mvalue\u001b[39m\u001b[38;5;124m'\u001b[39m] \u001b[38;5;241m==\u001b[39m \u001b[38;5;124m'\u001b[39m\u001b[38;5;124mF6\u001b[39m\u001b[38;5;124m'\u001b[39m)]\n\u001b[1;32m      4\u001b[0m \u001b[38;5;28;01mif\u001b[39;00m \u001b[38;5;129;01mnot\u001b[39;00m f6_failures\u001b[38;5;241m.\u001b[39mempty:\n\u001b[1;32m      5\u001b[0m     \u001b[38;5;66;03m# Find corresponding signal detection and response time\u001b[39;00m\n\u001b[1;32m      6\u001b[0m     f6_indices \u001b[38;5;241m=\u001b[39m f6_failures\u001b[38;5;241m.\u001b[39mindex\n",
      "File \u001b[0;32m~/anaconda3/envs/py39/lib/python3.9/site-packages/pandas/core/frame.py:4102\u001b[0m, in \u001b[0;36mDataFrame.__getitem__\u001b[0;34m(self, key)\u001b[0m\n\u001b[1;32m   4100\u001b[0m \u001b[38;5;28;01mif\u001b[39;00m \u001b[38;5;28mself\u001b[39m\u001b[38;5;241m.\u001b[39mcolumns\u001b[38;5;241m.\u001b[39mnlevels \u001b[38;5;241m>\u001b[39m \u001b[38;5;241m1\u001b[39m:\n\u001b[1;32m   4101\u001b[0m     \u001b[38;5;28;01mreturn\u001b[39;00m \u001b[38;5;28mself\u001b[39m\u001b[38;5;241m.\u001b[39m_getitem_multilevel(key)\n\u001b[0;32m-> 4102\u001b[0m indexer \u001b[38;5;241m=\u001b[39m \u001b[38;5;28;43mself\u001b[39;49m\u001b[38;5;241;43m.\u001b[39;49m\u001b[43mcolumns\u001b[49m\u001b[38;5;241;43m.\u001b[39;49m\u001b[43mget_loc\u001b[49m\u001b[43m(\u001b[49m\u001b[43mkey\u001b[49m\u001b[43m)\u001b[49m\n\u001b[1;32m   4103\u001b[0m \u001b[38;5;28;01mif\u001b[39;00m is_integer(indexer):\n\u001b[1;32m   4104\u001b[0m     indexer \u001b[38;5;241m=\u001b[39m [indexer]\n",
      "File \u001b[0;32m~/anaconda3/envs/py39/lib/python3.9/site-packages/pandas/core/indexes/base.py:3812\u001b[0m, in \u001b[0;36mIndex.get_loc\u001b[0;34m(self, key)\u001b[0m\n\u001b[1;32m   3807\u001b[0m     \u001b[38;5;28;01mif\u001b[39;00m \u001b[38;5;28misinstance\u001b[39m(casted_key, \u001b[38;5;28mslice\u001b[39m) \u001b[38;5;129;01mor\u001b[39;00m (\n\u001b[1;32m   3808\u001b[0m         \u001b[38;5;28misinstance\u001b[39m(casted_key, abc\u001b[38;5;241m.\u001b[39mIterable)\n\u001b[1;32m   3809\u001b[0m         \u001b[38;5;129;01mand\u001b[39;00m \u001b[38;5;28many\u001b[39m(\u001b[38;5;28misinstance\u001b[39m(x, \u001b[38;5;28mslice\u001b[39m) \u001b[38;5;28;01mfor\u001b[39;00m x \u001b[38;5;129;01min\u001b[39;00m casted_key)\n\u001b[1;32m   3810\u001b[0m     ):\n\u001b[1;32m   3811\u001b[0m         \u001b[38;5;28;01mraise\u001b[39;00m InvalidIndexError(key)\n\u001b[0;32m-> 3812\u001b[0m     \u001b[38;5;28;01mraise\u001b[39;00m \u001b[38;5;167;01mKeyError\u001b[39;00m(key) \u001b[38;5;28;01mfrom\u001b[39;00m\u001b[38;5;250m \u001b[39m\u001b[38;5;21;01merr\u001b[39;00m\n\u001b[1;32m   3813\u001b[0m \u001b[38;5;28;01mexcept\u001b[39;00m \u001b[38;5;167;01mTypeError\u001b[39;00m:\n\u001b[1;32m   3814\u001b[0m     \u001b[38;5;66;03m# If we have a listlike key, _check_indexing_error will raise\u001b[39;00m\n\u001b[1;32m   3815\u001b[0m     \u001b[38;5;66;03m#  InvalidIndexError. Otherwise we fall through and re-raise\u001b[39;00m\n\u001b[1;32m   3816\u001b[0m     \u001b[38;5;66;03m#  the TypeError.\u001b[39;00m\n\u001b[1;32m   3817\u001b[0m     \u001b[38;5;28mself\u001b[39m\u001b[38;5;241m.\u001b[39m_check_indexing_error(key)\n",
      "\u001b[0;31mKeyError\u001b[0m: 'metric'"
     ]
    }
   ],
   "source": [
    "# 6. Evaluate Error Recommendation Detection\n",
    "# Find F6 failures and check if a misleading recommendation was given and user response\n",
    "f6_failures = perf_events[(perf_events['metric'] == 'name') & (perf_events['value'] == 'F6')]\n",
    "if not f6_failures.empty:\n",
    "    # Find corresponding signal detection and response time\n",
    "    f6_indices = f6_failures.index\n",
    "    print(f\"F6 Failures: {f6_failures}\")\n",
    "    print(f\"F6 failures detected: {f6_indices}\")\n",
    "    f6_perf = perf_pivot.loc[f6_indices]\n",
    "    misleading_given = False\n",
    "    for idx in f6_indices:\n",
    "        # Check if a wrong recommendation was logged (FA or wrong key)\n",
    "        signal = perf_pivot.loc[idx, 'signal_detection'] if 'signal_detection' in perf_pivot.columns else None\n",
    "        if signal == 'FA':\n",
    "            misleading_given = True\n",
    "    print(f\"Misleading recommendation for F6 given: {misleading_given}\")\n",
    "    print(f\"User responses for F6 failures:\")\n",
    "    display(f6_perf)\n",
    "else:\n",
    "    print(\"No F6 failures detected.\")"
   ]
  },
  {
   "cell_type": "code",
   "execution_count": 9,
   "id": "2c22f3a9",
   "metadata": {},
   "outputs": [],
   "source": [
    "# 7. Visualize Results\n",
    "if not perf_events.empty:\n",
    "    plt.figure(figsize=(10, 4))\n",
    "    sns.countplot(x='signal_detection', data=perf_pivot)\n",
    "    plt.title('Sysmon Signal Detection (HIT/MISS/FA)')\n",
    "    plt.show()\n",
    "    plt.figure(figsize=(10, 4))\n",
    "    sns.histplot(pd.to_numeric(perf_pivot['response_time'], errors='coerce').dropna(), bins=30)\n",
    "    plt.title('Response Time Distribution (ms)')\n",
    "    plt.xlabel('Response Time (ms)')\n",
    "    plt.show()\n",
    "    # F6 misleading recommendation visualization\n",
    "    if not f6_failures.empty:\n",
    "        plt.figure(figsize=(6, 4))\n",
    "        sns.countplot(x='signal_detection', data=f6_perf)\n",
    "        plt.title('F6 Signal Detection (Misleading Recommendation)')\n",
    "        plt.show()"
   ]
  },
  {
   "cell_type": "code",
   "execution_count": 10,
   "id": "968ca47e",
   "metadata": {},
   "outputs": [
    {
     "ename": "KeyError",
     "evalue": "'metric'",
     "output_type": "error",
     "traceback": [
      "\u001b[0;31m---------------------------------------------------------------------------\u001b[0m",
      "\u001b[0;31mKeyError\u001b[0m                                  Traceback (most recent call last)",
      "File \u001b[0;32m~/anaconda3/envs/py39/lib/python3.9/site-packages/pandas/core/indexes/base.py:3805\u001b[0m, in \u001b[0;36mIndex.get_loc\u001b[0;34m(self, key)\u001b[0m\n\u001b[1;32m   3804\u001b[0m \u001b[38;5;28;01mtry\u001b[39;00m:\n\u001b[0;32m-> 3805\u001b[0m     \u001b[38;5;28;01mreturn\u001b[39;00m \u001b[38;5;28;43mself\u001b[39;49m\u001b[38;5;241;43m.\u001b[39;49m\u001b[43m_engine\u001b[49m\u001b[38;5;241;43m.\u001b[39;49m\u001b[43mget_loc\u001b[49m\u001b[43m(\u001b[49m\u001b[43mcasted_key\u001b[49m\u001b[43m)\u001b[49m\n\u001b[1;32m   3806\u001b[0m \u001b[38;5;28;01mexcept\u001b[39;00m \u001b[38;5;167;01mKeyError\u001b[39;00m \u001b[38;5;28;01mas\u001b[39;00m err:\n",
      "File \u001b[0;32mindex.pyx:167\u001b[0m, in \u001b[0;36mpandas._libs.index.IndexEngine.get_loc\u001b[0;34m()\u001b[0m\n",
      "File \u001b[0;32mindex.pyx:196\u001b[0m, in \u001b[0;36mpandas._libs.index.IndexEngine.get_loc\u001b[0;34m()\u001b[0m\n",
      "File \u001b[0;32mpandas/_libs/hashtable_class_helper.pxi:7081\u001b[0m, in \u001b[0;36mpandas._libs.hashtable.PyObjectHashTable.get_item\u001b[0;34m()\u001b[0m\n",
      "File \u001b[0;32mpandas/_libs/hashtable_class_helper.pxi:7089\u001b[0m, in \u001b[0;36mpandas._libs.hashtable.PyObjectHashTable.get_item\u001b[0;34m()\u001b[0m\n",
      "\u001b[0;31mKeyError\u001b[0m: 'metric'",
      "\nThe above exception was the direct cause of the following exception:\n",
      "\u001b[0;31mKeyError\u001b[0m                                  Traceback (most recent call last)",
      "Cell \u001b[0;32mIn[10], line 5\u001b[0m\n\u001b[1;32m      1\u001b[0m \u001b[38;5;66;03m# Targeted F6 Failure Analysis (Robust)\u001b[39;00m\n\u001b[1;32m      2\u001b[0m \n\u001b[1;32m      3\u001b[0m \u001b[38;5;66;03m# Extract all F6 events from perf_events and join with signal detection and response time\u001b[39;00m\n\u001b[0;32m----> 5\u001b[0m f6_events \u001b[38;5;241m=\u001b[39m perf_events[\u001b[43mperf_events\u001b[49m\u001b[43m[\u001b[49m\u001b[38;5;124;43m'\u001b[39;49m\u001b[38;5;124;43mmetric\u001b[39;49m\u001b[38;5;124;43m'\u001b[39;49m\u001b[43m]\u001b[49m \u001b[38;5;241m==\u001b[39m \u001b[38;5;124m'\u001b[39m\u001b[38;5;124mname\u001b[39m\u001b[38;5;124m'\u001b[39m]\n\u001b[1;32m      6\u001b[0m f6_events \u001b[38;5;241m=\u001b[39m f6_events[f6_events[\u001b[38;5;124m'\u001b[39m\u001b[38;5;124mvalue\u001b[39m\u001b[38;5;124m'\u001b[39m] \u001b[38;5;241m==\u001b[39m \u001b[38;5;124m'\u001b[39m\u001b[38;5;124mF6\u001b[39m\u001b[38;5;124m'\u001b[39m]\n\u001b[1;32m      8\u001b[0m \u001b[38;5;66;03m# Merge with signal_detection and response_time using timestamp and scenario_time\u001b[39;00m\n",
      "File \u001b[0;32m~/anaconda3/envs/py39/lib/python3.9/site-packages/pandas/core/frame.py:4102\u001b[0m, in \u001b[0;36mDataFrame.__getitem__\u001b[0;34m(self, key)\u001b[0m\n\u001b[1;32m   4100\u001b[0m \u001b[38;5;28;01mif\u001b[39;00m \u001b[38;5;28mself\u001b[39m\u001b[38;5;241m.\u001b[39mcolumns\u001b[38;5;241m.\u001b[39mnlevels \u001b[38;5;241m>\u001b[39m \u001b[38;5;241m1\u001b[39m:\n\u001b[1;32m   4101\u001b[0m     \u001b[38;5;28;01mreturn\u001b[39;00m \u001b[38;5;28mself\u001b[39m\u001b[38;5;241m.\u001b[39m_getitem_multilevel(key)\n\u001b[0;32m-> 4102\u001b[0m indexer \u001b[38;5;241m=\u001b[39m \u001b[38;5;28;43mself\u001b[39;49m\u001b[38;5;241;43m.\u001b[39;49m\u001b[43mcolumns\u001b[49m\u001b[38;5;241;43m.\u001b[39;49m\u001b[43mget_loc\u001b[49m\u001b[43m(\u001b[49m\u001b[43mkey\u001b[49m\u001b[43m)\u001b[49m\n\u001b[1;32m   4103\u001b[0m \u001b[38;5;28;01mif\u001b[39;00m is_integer(indexer):\n\u001b[1;32m   4104\u001b[0m     indexer \u001b[38;5;241m=\u001b[39m [indexer]\n",
      "File \u001b[0;32m~/anaconda3/envs/py39/lib/python3.9/site-packages/pandas/core/indexes/base.py:3812\u001b[0m, in \u001b[0;36mIndex.get_loc\u001b[0;34m(self, key)\u001b[0m\n\u001b[1;32m   3807\u001b[0m     \u001b[38;5;28;01mif\u001b[39;00m \u001b[38;5;28misinstance\u001b[39m(casted_key, \u001b[38;5;28mslice\u001b[39m) \u001b[38;5;129;01mor\u001b[39;00m (\n\u001b[1;32m   3808\u001b[0m         \u001b[38;5;28misinstance\u001b[39m(casted_key, abc\u001b[38;5;241m.\u001b[39mIterable)\n\u001b[1;32m   3809\u001b[0m         \u001b[38;5;129;01mand\u001b[39;00m \u001b[38;5;28many\u001b[39m(\u001b[38;5;28misinstance\u001b[39m(x, \u001b[38;5;28mslice\u001b[39m) \u001b[38;5;28;01mfor\u001b[39;00m x \u001b[38;5;129;01min\u001b[39;00m casted_key)\n\u001b[1;32m   3810\u001b[0m     ):\n\u001b[1;32m   3811\u001b[0m         \u001b[38;5;28;01mraise\u001b[39;00m InvalidIndexError(key)\n\u001b[0;32m-> 3812\u001b[0m     \u001b[38;5;28;01mraise\u001b[39;00m \u001b[38;5;167;01mKeyError\u001b[39;00m(key) \u001b[38;5;28;01mfrom\u001b[39;00m\u001b[38;5;250m \u001b[39m\u001b[38;5;21;01merr\u001b[39;00m\n\u001b[1;32m   3813\u001b[0m \u001b[38;5;28;01mexcept\u001b[39;00m \u001b[38;5;167;01mTypeError\u001b[39;00m:\n\u001b[1;32m   3814\u001b[0m     \u001b[38;5;66;03m# If we have a listlike key, _check_indexing_error will raise\u001b[39;00m\n\u001b[1;32m   3815\u001b[0m     \u001b[38;5;66;03m#  InvalidIndexError. Otherwise we fall through and re-raise\u001b[39;00m\n\u001b[1;32m   3816\u001b[0m     \u001b[38;5;66;03m#  the TypeError.\u001b[39;00m\n\u001b[1;32m   3817\u001b[0m     \u001b[38;5;28mself\u001b[39m\u001b[38;5;241m.\u001b[39m_check_indexing_error(key)\n",
      "\u001b[0;31mKeyError\u001b[0m: 'metric'"
     ]
    }
   ],
   "source": [
    "# Targeted F6 Failure Analysis (Robust)\n",
    "\n",
    "# Extract all F6 events from perf_events and join with signal detection and response time\n",
    "\n",
    "f6_events = perf_events[perf_events['metric'] == 'name']\n",
    "f6_events = f6_events[f6_events['value'] == 'F6']\n",
    "\n",
    "# Merge with signal_detection and response_time using timestamp and scenario_time\n",
    "f6_details = f6_events[['timestamp', 'scenario_time']].drop_duplicates()\n",
    "f6_details = f6_details.merge(\n",
    "    perf_events[perf_events['metric'] == 'signal_detection'][['timestamp', 'scenario_time', 'value']],\n",
    "    on=['timestamp', 'scenario_time'], how='left'\n",
    ")\n",
    "f6_details = f6_details.merge(\n",
    "    perf_events[perf_events['metric'] == 'response_time'][['timestamp', 'scenario_time', 'value']],\n",
    "    on=['timestamp', 'scenario_time'], how='left', suffixes=('_signal', '_response')\n",
    ")\n",
    "f6_details.rename(columns={'value_signal': 'signal_detection', 'value_response': 'response_time'}, inplace=True)\n",
    "\n",
    "print('F6 Failure Events:')\n",
    "display(f6_details)\n",
    "\n",
    "# Summarize HIT/MISS/FA and missing response times\n",
    "summary = f6_details['signal_detection'].value_counts(dropna=False)\n",
    "print('F6 Signal Detection Summary:')\n",
    "print(summary)\n",
    "missing_rt = f6_details['response_time'].isna().sum() + (f6_details['response_time'] == 'nan').sum()\n",
    "print(f'Missing response times: {missing_rt} of {len(f6_details)}')"
   ]
  },
  {
   "cell_type": "markdown",
   "id": "ed5c822a",
   "metadata": {},
   "source": [
    "## F6 Failure Event Summary\n",
    "\n",
    "Only one F6 failure event was detected in this session. The analysis below shows its signal detection outcome and whether a response time was recorded. This is useful for evaluating user performance and the effect of misleading recommendations for F6."
   ]
  }
 ],
 "metadata": {
  "kernelspec": {
   "display_name": "py39",
   "language": "python",
   "name": "python3"
  },
  "language_info": {
   "codemirror_mode": {
    "name": "ipython",
    "version": 3
   },
   "file_extension": ".py",
   "mimetype": "text/x-python",
   "name": "python",
   "nbconvert_exporter": "python",
   "pygments_lexer": "ipython3",
   "version": "3.9.21"
  }
 },
 "nbformat": 4,
 "nbformat_minor": 5
}
