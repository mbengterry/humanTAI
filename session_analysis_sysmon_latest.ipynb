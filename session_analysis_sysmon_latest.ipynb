{
 "cells": [
  {
   "cell_type": "markdown",
   "id": "8732226e",
   "metadata": {},
   "source": [
    "# Sysmon Failure and Performance Analysis (Latest Session)\n",
    "\n",
    "This notebook extracts all Sysmon failures from the latest session file, summarizes performance for each failure, and identifies the key pressed by the user to resolve each event.\n",
    "\n",
    "## Outline\n",
    "\n",
    "1. Import Required Libraries\n",
    "\n",
    "2. Load Latest Session File\n",
    "\n",
    "3. Extract All Failure Events\n",
    "\n",
    "4. Summarize Performance for Each Failure\n",
    "\n",
    "5. Identify Key Pressed to Resolve Each Failure\n",
    "\n",
    "6. Visualize Results"
   ]
  },
  {
   "cell_type": "code",
   "execution_count": 1,
   "id": "ef014bf0",
   "metadata": {},
   "outputs": [],
   "source": [
    "# 1. Import Required Libraries\n",
    "\n",
    "import pandas as pd\n",
    "\n",
    "import matplotlib.pyplot as plt\n",
    "\n",
    "import seaborn as sns\n",
    "\n",
    "import os"
   ]
  },
  {
   "cell_type": "code",
   "execution_count": 2,
   "id": "8e32ff42",
   "metadata": {},
   "outputs": [
    {
     "name": "stdout",
     "output_type": "stream",
     "text": [
      "Loaded 72316 rows from sessions/2025-07-20/137_250720_101756.csv\n"
     ]
    }
   ],
   "source": [
    "# 2. Load Latest Session File\n",
    "\n",
    "latest_file = 'sessions/2025-07-20/137_250720_101756.csv'\n",
    "\n",
    "df = pd.read_csv(latest_file, header=None)\n",
    "\n",
    "df.columns = ['timestamp', 'scenario_time', 'event_type', 'plugin', 'param1', 'param2']\n",
    "\n",
    "print(f\"Loaded {len(df)} rows from {latest_file}\")"
   ]
  },
  {
   "cell_type": "code",
   "execution_count": 3,
   "id": "afee0ef4",
   "metadata": {},
   "outputs": [
    {
     "name": "stdout",
     "output_type": "stream",
     "text": [
      "Total Sysmon failures detected: 6\n"
     ]
    },
    {
     "data": {
      "text/html": [
       "<div>\n",
       "<style scoped>\n",
       "    .dataframe tbody tr th:only-of-type {\n",
       "        vertical-align: middle;\n",
       "    }\n",
       "\n",
       "    .dataframe tbody tr th {\n",
       "        vertical-align: top;\n",
       "    }\n",
       "\n",
       "    .dataframe thead th {\n",
       "        text-align: right;\n",
       "    }\n",
       "</style>\n",
       "<table border=\"1\" class=\"dataframe\">\n",
       "  <thead>\n",
       "    <tr style=\"text-align: right;\">\n",
       "      <th></th>\n",
       "      <th>timestamp</th>\n",
       "      <th>scenario_time</th>\n",
       "      <th>event_type</th>\n",
       "      <th>plugin</th>\n",
       "      <th>param1</th>\n",
       "      <th>param2</th>\n",
       "    </tr>\n",
       "  </thead>\n",
       "  <tbody>\n",
       "    <tr>\n",
       "      <th>20025</th>\n",
       "      <td>23.601073</td>\n",
       "      <td>19.272392</td>\n",
       "      <td>performance</td>\n",
       "      <td>sysmon</td>\n",
       "      <td>name</td>\n",
       "      <td>F1</td>\n",
       "    </tr>\n",
       "    <tr>\n",
       "      <th>25848</th>\n",
       "      <td>29.325657</td>\n",
       "      <td>24.997941</td>\n",
       "      <td>performance</td>\n",
       "      <td>sysmon</td>\n",
       "      <td>name</td>\n",
       "      <td>F5</td>\n",
       "    </tr>\n",
       "    <tr>\n",
       "      <th>46906</th>\n",
       "      <td>85.416278</td>\n",
       "      <td>75.333789</td>\n",
       "      <td>performance</td>\n",
       "      <td>sysmon</td>\n",
       "      <td>name</td>\n",
       "      <td>F6</td>\n",
       "    </tr>\n",
       "    <tr>\n",
       "      <th>47420</th>\n",
       "      <td>85.909189</td>\n",
       "      <td>75.812879</td>\n",
       "      <td>performance</td>\n",
       "      <td>sysmon</td>\n",
       "      <td>name</td>\n",
       "      <td>F2</td>\n",
       "    </tr>\n",
       "    <tr>\n",
       "      <th>48513</th>\n",
       "      <td>86.967492</td>\n",
       "      <td>76.872031</td>\n",
       "      <td>performance</td>\n",
       "      <td>sysmon</td>\n",
       "      <td>name</td>\n",
       "      <td>F2</td>\n",
       "    </tr>\n",
       "  </tbody>\n",
       "</table>\n",
       "</div>"
      ],
      "text/plain": [
       "       timestamp scenario_time   event_type  plugin param1 param2\n",
       "20025  23.601073     19.272392  performance  sysmon   name     F1\n",
       "25848  29.325657     24.997941  performance  sysmon   name     F5\n",
       "46906  85.416278     75.333789  performance  sysmon   name     F6\n",
       "47420  85.909189     75.812879  performance  sysmon   name     F2\n",
       "48513  86.967492     76.872031  performance  sysmon   name     F2"
      ]
     },
     "metadata": {},
     "output_type": "display_data"
    }
   ],
   "source": [
    "# 3. Extract All Failure Events\n",
    "\n",
    "sysmon_failures = df[(df['plugin'] == 'sysmon') & (df['event_type'] == 'performance') & (df['param1'].str.contains('name'))]\n",
    "\n",
    "print(f\"Total Sysmon failures detected: {len(sysmon_failures)}\")\n",
    "\n",
    "display(sysmon_failures.head())"
   ]
  },
  {
   "cell_type": "code",
   "execution_count": 4,
   "id": "19dddfa4",
   "metadata": {},
   "outputs": [
    {
     "name": "stdout",
     "output_type": "stream",
     "text": [
      "Performance summary for each failure:\n"
     ]
    },
    {
     "data": {
      "text/html": [
       "<div>\n",
       "<style scoped>\n",
       "    .dataframe tbody tr th:only-of-type {\n",
       "        vertical-align: middle;\n",
       "    }\n",
       "\n",
       "    .dataframe tbody tr th {\n",
       "        vertical-align: top;\n",
       "    }\n",
       "\n",
       "    .dataframe thead th {\n",
       "        text-align: right;\n",
       "    }\n",
       "</style>\n",
       "<table border=\"1\" class=\"dataframe\">\n",
       "  <thead>\n",
       "    <tr style=\"text-align: right;\">\n",
       "      <th></th>\n",
       "      <th>timestamp</th>\n",
       "      <th>scenario_time</th>\n",
       "      <th>gauge</th>\n",
       "      <th>signal_detection</th>\n",
       "      <th>response_time</th>\n",
       "      <th>key_pressed</th>\n",
       "    </tr>\n",
       "  </thead>\n",
       "  <tbody>\n",
       "    <tr>\n",
       "      <th>0</th>\n",
       "      <td>23.601073</td>\n",
       "      <td>19.272392</td>\n",
       "      <td>F1</td>\n",
       "      <td>None</td>\n",
       "      <td>None</td>\n",
       "      <td>None</td>\n",
       "    </tr>\n",
       "    <tr>\n",
       "      <th>1</th>\n",
       "      <td>29.325657</td>\n",
       "      <td>24.997941</td>\n",
       "      <td>F5</td>\n",
       "      <td>None</td>\n",
       "      <td>None</td>\n",
       "      <td>None</td>\n",
       "    </tr>\n",
       "    <tr>\n",
       "      <th>2</th>\n",
       "      <td>85.416278</td>\n",
       "      <td>75.333789</td>\n",
       "      <td>F6</td>\n",
       "      <td>None</td>\n",
       "      <td>None</td>\n",
       "      <td>None</td>\n",
       "    </tr>\n",
       "    <tr>\n",
       "      <th>3</th>\n",
       "      <td>85.909189</td>\n",
       "      <td>75.812879</td>\n",
       "      <td>F2</td>\n",
       "      <td>None</td>\n",
       "      <td>None</td>\n",
       "      <td>None</td>\n",
       "    </tr>\n",
       "    <tr>\n",
       "      <th>4</th>\n",
       "      <td>86.967492</td>\n",
       "      <td>76.872031</td>\n",
       "      <td>F2</td>\n",
       "      <td>None</td>\n",
       "      <td>None</td>\n",
       "      <td>None</td>\n",
       "    </tr>\n",
       "    <tr>\n",
       "      <th>5</th>\n",
       "      <td>88.82076</td>\n",
       "      <td>78.72542</td>\n",
       "      <td>F3</td>\n",
       "      <td>None</td>\n",
       "      <td>None</td>\n",
       "      <td>None</td>\n",
       "    </tr>\n",
       "  </tbody>\n",
       "</table>\n",
       "</div>"
      ],
      "text/plain": [
       "   timestamp scenario_time gauge signal_detection response_time key_pressed\n",
       "0  23.601073     19.272392    F1             None          None        None\n",
       "1  29.325657     24.997941    F5             None          None        None\n",
       "2  85.416278     75.333789    F6             None          None        None\n",
       "3  85.909189     75.812879    F2             None          None        None\n",
       "4  86.967492     76.872031    F2             None          None        None\n",
       "5   88.82076      78.72542    F3             None          None        None"
      ]
     },
     "metadata": {},
     "output_type": "display_data"
    }
   ],
   "source": [
    "# 4. Summarize Performance and Key Presses for Each Failure\n",
    "\n",
    "failures = sysmon_failures[['timestamp', 'scenario_time', 'param2']].copy()\n",
    "\n",
    "failures.rename(columns={'param2': 'gauge'}, inplace=True)\n",
    "\n",
    "\n",
    "# For each failure, get signal_detection, response_time, and key pressed\n",
    "\n",
    "results = []\n",
    "\n",
    "for idx, row in failures.iterrows():\n",
    "\n",
    "    ts = row['timestamp']\n",
    "\n",
    "    sc = row['scenario_time']\n",
    "\n",
    "    gauge = row['gauge']\n",
    "\n",
    "    # Find signal_detection and response_time events with same timestamp/scenario_time\n",
    "\n",
    "    signal_row = df[(df['plugin'] == 'sysmon') & (df['event_type'] == 'performance') & (df['param1'] == 'signal_detection') & (df['timestamp'] == ts) & (df['scenario_time'] == sc)]\n",
    "\n",
    "    rt_row = df[(df['plugin'] == 'sysmon') & (df['event_type'] == 'performance') & (df['param1'] == 'response_time') & (df['timestamp'] == ts) & (df['scenario_time'] == sc)]\n",
    "\n",
    "    key_row = df[(df['plugin'] == 'sysmon') & (df['event_type'] == 'performance') & (df['param1'] == 'key_pressed') & (df['timestamp'] == ts) & (df['scenario_time'] == sc)]\n",
    "\n",
    "    signal = signal_row['param2'].values[0] if not signal_row.empty else None\n",
    "\n",
    "    rt = rt_row['param2'].values[0] if not rt_row.empty else None\n",
    "\n",
    "    key = key_row['param2'].values[0] if not key_row.empty else None\n",
    "\n",
    "    results.append({'timestamp': ts, 'scenario_time': sc, 'gauge': gauge, 'signal_detection': signal, 'response_time': rt, 'key_pressed': key})\n",
    "\n",
    "\n",
    "perf_df = pd.DataFrame(results)\n",
    "\n",
    "print('Performance summary for each failure:')\n",
    "\n",
    "display(perf_df)"
   ]
  },
  {
   "cell_type": "code",
   "execution_count": 5,
   "id": "92ad0091",
   "metadata": {},
   "outputs": [
    {
     "data": {
      "image/png": "[encoded data removed]",
      "text/plain": [
       "<Figure size 1000x400 with 1 Axes>"
      ]
     },
     "metadata": {},
     "output_type": "display_data"
    },
    {
     "data": {
      "image/png": "[encoded data removed]",
      "text/plain": [
       "<Figure size 1000x400 with 1 Axes>"
      ]
     },
     "metadata": {},
     "output_type": "display_data"
    },
    {
     "data": {
      "image/png": "[encoded data removed]",
      "text/plain": [
       "<Figure size 1000x400 with 1 Axes>"
      ]
     },
     "metadata": {},
     "output_type": "display_data"
    }
   ],
   "source": [
    "# 5. Visualize Results\n",
    "\n",
    "if not perf_df.empty:\n",
    "\n",
    "    plt.figure(figsize=(10, 4))\n",
    "\n",
    "    sns.countplot(x='signal_detection', data=perf_df)\n",
    "\n",
    "    plt.title('Sysmon Failure Signal Detection (HIT/MISS/FA)')\n",
    "\n",
    "    plt.show()\n",
    "\n",
    "    plt.figure(figsize=(10, 4))\n",
    "\n",
    "    sns.histplot(pd.to_numeric(perf_df['response_time'], errors='coerce').dropna(), bins=30)\n",
    "\n",
    "    plt.title('Response Time Distribution (ms)')\n",
    "\n",
    "    plt.xlabel('Response Time (ms)')\n",
    "\n",
    "    plt.show()\n",
    "\n",
    "    plt.figure(figsize=(10, 4))\n",
    "\n",
    "    sns.countplot(x='key_pressed', data=perf_df)\n",
    "\n",
    "    plt.title('Key Pressed to Resolve Failure')\n",
    "\n",
    "    plt.show()"
   ]
  }
 ],
 "metadata": {
  "kernelspec": {
   "display_name": "py39",
   "language": "python",
   "name": "python3"
  },
  "language_info": {
   "codemirror_mode": {
    "name": "ipython",
    "version": 3
   },
   "file_extension": ".py",
   "mimetype": "text/x-python",
   "name": "python",
   "nbconvert_exporter": "python",
   "pygments_lexer": "ipython3",
   "version": "3.9.21"
  }
 },
 "nbformat": 4,
 "nbformat_minor": 5
}
